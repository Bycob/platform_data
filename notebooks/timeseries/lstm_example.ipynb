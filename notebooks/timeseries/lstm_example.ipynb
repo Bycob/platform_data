{
 "cells": [
  {
   "cell_type": "code",
   "execution_count": null,
   "metadata": {},
   "outputs": [],
   "source": [
    "from dd_widgets import timeseries as ts\n",
    "from dd_widgets.timeseries.lstm import LSTM"
   ]
  },
  {
   "cell_type": "code",
   "execution_count": null,
   "metadata": {},
   "outputs": [],
   "source": [
    "signal = \"A-4\"\n",
    "\n",
    "datadir = \"/opt/platform/data/louisj/timeseries/univariate/%s_f1\" % signal\n",
    "# datadir = \"/opt/platform/data/louisj/timeseries/NASA\"\n",
    "model_name = \"lstm_nasa_%s%s\" % (signal[0:1], signal[2:])\n",
    "train_data = [datadir + \"/train\", datadir + \"/test\"]\n",
    "\n",
    "lstm = LSTM(\n",
    "    sname = model_name,\n",
    "    host = \"10.10.77.61\",\n",
    "    # port = 18105,\n",
    "    # api_path = \"/api/private\",\n",
    "    port = 8501,\n",
    "    \n",
    "    models_dir = \"/opt/platform/models/training/louisj/exp/timeseries/bench_200_1/\",\n",
    "    models = [model_name],\n",
    "    \n",
    "    # all columns of the csv\n",
    "    columns = [\"0\", \"0_f1\"],\n",
    "    # target column\n",
    "    target_cols = [\"0_f1\"],\n",
    "    # ignored columns. All columns that are neither target\n",
    "    # nor ignored are considered as input data\n",
    "    ignored_cols = [],\n",
    "    \n",
    "    # Model parameters\n",
    "    layers = [\"L32\", \"L32\", \"L32\"],\n",
    "    # predict at one timestep in the future\n",
    "    pred_distance = 1,\n",
    "\n",
    "    # Training parameters\n",
    "    gpuid = 2,\n",
    "    batch_size = 100,\n",
    "    iter_size = 1,\n",
    "    iterations = 100000,\n",
    "    \n",
    "    # predictions are cached in this directory to save time\n",
    "    output_dir = \"/opt/platform/data/louisj/timeseries/predictions/bench_200_1/\",\n",
    "    # root directory of the prediction data\n",
    "    datadir = datadir,\n",
    "    # ts.get_datafiles retrieves all csv files from a directory\n",
    "    datafiles = ts.get_datafiles(datadir)\n",
    ")\n",
    "lstm.dataset_ui()"
   ]
  },
  {
   "cell_type": "code",
   "execution_count": null,
   "metadata": {},
   "outputs": [],
   "source": [
    "lstm.create_service(model_name)\n",
    "lstm.train(train_data)"
   ]
  },
  {
   "cell_type": "code",
   "execution_count": null,
   "metadata": {},
   "outputs": [],
   "source": [
    "# compute predictions / reload if necessary\n",
    "lstm.predict_all(override = False)\n",
    "lstm.forecast_ui()"
   ]
  },
  {
   "cell_type": "code",
   "execution_count": null,
   "metadata": {},
   "outputs": [],
   "source": []
  }
 ],
 "metadata": {
  "kernelspec": {
   "display_name": "Python 3",
   "language": "python",
   "name": "python3"
  },
  "language_info": {
   "codemirror_mode": {
    "name": "ipython",
    "version": 3
   },
   "file_extension": ".py",
   "mimetype": "text/x-python",
   "name": "python",
   "nbconvert_exporter": "python",
   "pygments_lexer": "ipython3",
   "version": "3.7.8"
  }
 },
 "nbformat": 4,
 "nbformat_minor": 4
}
