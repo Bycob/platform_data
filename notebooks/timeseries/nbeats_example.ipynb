{
 "cells": [
  {
   "cell_type": "code",
   "execution_count": null,
   "metadata": {},
   "outputs": [],
   "source": [
    "import sys\n",
    "import os\n",
    "\n",
    "from dd_widgets import timeseries as ts\n",
    "from dd_widgets.timeseries.nbeats import NBEATS"
   ]
  },
  {
   "cell_type": "code",
   "execution_count": null,
   "metadata": {},
   "outputs": [],
   "source": [
    "labels = [\"0\"]\n",
    "datadir = \"/opt/platform/data/nasa\"\n",
    "model_name = \"nbeats_nasa\"\n",
    "\n",
    "nbeats = NBEATS(\n",
    "    sname = model_name,\n",
    "    host = \"deepdetect\",\n",
    "    port = 8080,\n",
    "    \n",
    "    model_repo = \"/opt/platform/models/training/\" + model_name,\n",
    "    training_repo = datadir + \"/train\",\n",
    "    testing_repo = datadir + \"/test\",\n",
    "    # NBEATS predicts the future from the past: target columns are also input columns\n",
    "    label_columns = [\"0\"],\n",
    "    # ignored columns. The model won't predict the future of these signals\n",
    "    ignore_columns = [],\n",
    "    \n",
    "    # Model parameters\n",
    "    # number of past steps taken as input\n",
    "    backcast_timesteps = 100,\n",
    "    # number of future steps predicted\n",
    "    forecast_timesteps = 100,\n",
    "    # NBEATS hyperparameters\n",
    "    # 2 x generic stack with theta = 128, 5 blocks per stacks, hidden unit size of 128 everywhere\n",
    "    # more details here https://www.deepdetect.com/server/docs/api/#create-a-service and in NBEATS paper\n",
    "    template_params = {\n",
    "        \"stackdef\": [\"g512\", \"g512\", \"b5\", \"h512\"],\n",
    "        \"backcast_loss_coeff\" : 1.0\n",
    "    },\n",
    "\n",
    "    # Training parameters\n",
    "    gpuid = 2,\n",
    "    base_lr = 0.001,\n",
    "    batch_size = 100,\n",
    "    iter_size = 1,\n",
    "    test_interval = 2000,\n",
    "    iterations = 100000,\n",
    "    offset = 1,\n",
    "    \n",
    "    # Predict parameters\n",
    "    pred_interval = 1,\n",
    "    autoregressive = False,\n",
    ")\n",
    "\n",
    "# compute predictions / reload if necessary\n",
    "plots = ts.TimeseriesPlot(\n",
    "    models = [nbeats],\n",
    "    # Target columns (available for prediction in the selector)\n",
    "    target_cols = labels,\n",
    "    ignored_cols = [],\n",
    "    # Root directory for all dataset files\n",
    "    datadir = datadir,\n",
    "    # Each dataset file path relative to the root directory\n",
    "    datafiles = ts.get_datafiles(datadir),\n",
    "    # Cache directory for prediction. Predictions can be saved here and reused later.\n",
    "    output_dir = \"/opt/platform/data/predictions/\",\n",
    ")\n",
    "# Display dataset\n",
    "plots.dataset_ui()"
   ]
  },
  {
   "cell_type": "code",
   "execution_count": null,
   "metadata": {},
   "outputs": [],
   "source": [
    "# Training\n",
    "nbeats"
   ]
  },
  {
   "cell_type": "code",
   "execution_count": null,
   "metadata": {},
   "outputs": [],
   "source": [
    "# Delete train service\n",
    "nbeats.delete()\n",
    "\n",
    "# Change the path of the model after publishing\n",
    "# nbeats.model_repo.value = \"/opt/platform/models/private/\" + model_name\n",
    "\n",
    "# Display forecasting results\n",
    "plots.forecast_ui(use_cached = True)"
   ]
  },
  {
   "cell_type": "code",
   "execution_count": null,
   "metadata": {},
   "outputs": [],
   "source": [
    "# Learn error distribution on train set.\n",
    "plots.predict_all(override = False)\n",
    "plots.learn_anomalies(nbeats, [\"train/A-4.csv\"])\n",
    "\n",
    "# Display detected anomalies with associated error\n",
    "plots.anomalies_ui(use_cached = True)"
   ]
  },
  {
   "cell_type": "code",
   "execution_count": null,
   "metadata": {},
   "outputs": [],
   "source": []
  }
 ],
 "metadata": {
  "kernelspec": {
   "display_name": "Python 3",
   "language": "python",
   "name": "python3"
  },
  "language_info": {
   "codemirror_mode": {
    "name": "ipython",
    "version": 3
   },
   "file_extension": ".py",
   "mimetype": "text/x-python",
   "name": "python",
   "nbconvert_exporter": "python",
   "pygments_lexer": "ipython3",
   "version": "3.8.6"
  }
 },
 "nbformat": 4,
 "nbformat_minor": 4
}
